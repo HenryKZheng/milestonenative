{
 "cells": [
  {
   "cell_type": "code",
   "execution_count": 2,
   "id": "46eaa847",
   "metadata": {},
   "outputs": [],
   "source": [
    "import numpy as np\n",
    "from scipy import stats\n",
    "import pandas as pd\n",
    "import matplotlib.pyplot as plt\n",
    "import matplotlib.colors as clr\n",
    "import re\n",
    "import sklearn.linear_model as lm\n",
    "from sklearn.model_selection import train_test_split\n",
    "from sklearn import metrics\n",
    "import time\n",
    "%matplotlib inline\n",
    "plt.style.use('fivethirtyeight')"
   ]
  },
  {
   "cell_type": "code",
   "execution_count": 10,
   "id": "c0ed4f79",
   "metadata": {},
   "outputs": [
    {
     "data": {
      "text/plain": [
       "Microsoft Corporation       3845\n",
       "DigitalOcean, LLC           2120\n",
       "Cloudflare, Inc.            1844\n",
       "Unified Layer                573\n",
       "Amazon.com, Inc.             527\n",
       "                            ... \n",
       "Cogeco Peer 1                  1\n",
       "Cosmoline S.A                  1\n",
       "Input Output Flood LLC         1\n",
       "Zomro B.V.                     1\n",
       "Peer 1 Dedicated Hosting       1\n",
       "Name: Host, Length: 80, dtype: int64"
      ]
     },
     "execution_count": 10,
     "metadata": {},
     "output_type": "execute_result"
    }
   ],
   "source": [
    "df = pd.read_csv('techsupport.csv')\n",
    "temp = df.drop(columns=['UID','Number','Ip','ASN','Mail','Latitude','Longitude', 'Hash'])\n",
    "temp.Host.value_counts()"
   ]
  }
 ],
 "metadata": {
  "kernelspec": {
   "display_name": "Python 3 (ipykernel)",
   "language": "python",
   "name": "python3"
  },
  "language_info": {
   "codemirror_mode": {
    "name": "ipython",
    "version": 3
   },
   "file_extension": ".py",
   "mimetype": "text/x-python",
   "name": "python",
   "nbconvert_exporter": "python",
   "pygments_lexer": "ipython3",
   "version": "3.9.7"
  }
 },
 "nbformat": 4,
 "nbformat_minor": 5
}
